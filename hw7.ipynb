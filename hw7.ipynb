{
 "cells": [
  {
   "cell_type": "markdown",
   "id": "a92e56ed",
   "metadata": {},
   "source": [
    "Load data"
   ]
  },
  {
   "cell_type": "code",
   "execution_count": 121,
   "id": "548a9083",
   "metadata": {},
   "outputs": [],
   "source": [
    "import pandas as pd\n",
    "import numpy as np\n",
    "from sklearn.model_selection import train_test_split\n",
    "from sklearn.preprocessing import StandardScaler\n",
    "\n",
    "def load_spambase():\n",
    "    spambase = pd.read_csv('spambase.data')\n",
    "    spambase_y = spambase.pop('is_spam')\n",
    "    spambase = StandardScaler().fit(spambase).transform(spambase)\n",
    "    X_train, X_test, y_train, y_test = train_test_split(spambase, spambase_y, test_size=0.8, random_state=3000)\n",
    "    return X_train, y_train, X_test, y_test\n",
    "\n",
    "def load_perceptron_data():\n",
    "    perceptron_dataset = pd.read_csv('perceptronData.txt', delim_whitespace=True, header=None)\n",
    "    perceptron_labels = perceptron_dataset.pop(4)\n",
    "    X_train, X_test, y_train, y_test = train_test_split(perceptron_dataset, perceptron_labels, test_size=0.2, random_state=3000)\n",
    "    return X_train, y_train, X_test, y_test\n",
    "\n",
    "def load_two_spirals():\n",
    "    perceptron_dataset = pd.read_csv('twoSpirals.txt', delim_whitespace=True, header=None)\n",
    "    perceptron_labels = perceptron_dataset.pop(2)\n",
    "    X_train, X_test, y_train, y_test = train_test_split(perceptron_dataset, perceptron_labels, test_size=0.2, random_state=3000)\n",
    "    return X_train, y_train, X_test, y_test"
   ]
  },
  {
   "cell_type": "code",
   "execution_count": 122,
   "id": "dea3e13a",
   "metadata": {},
   "outputs": [],
   "source": [
    "sp_X_tr, sp_y_tr, sp_X_te, sp_y_te = load_spambase()\n",
    "perc_X_train, perc_y_train, perc_X_test, perc_y_test = load_perceptron_data()\n",
    "spir_X_train, spir_y_train, spir_X_test, spir_y_test = load_two_spirals()"
   ]
  },
  {
   "cell_type": "code",
   "execution_count": 114,
   "id": "61ba97b2",
   "metadata": {},
   "outputs": [
    {
     "data": {
      "text/plain": [
       "3762    0\n",
       "2866    0\n",
       "265     1\n",
       "3671    0\n",
       "2880    0\n",
       "       ..\n",
       "1876    0\n",
       "949     1\n",
       "1966    0\n",
       "3841    0\n",
       "1016    1\n",
       "Name: is_spam, Length: 920, dtype: int64"
      ]
     },
     "execution_count": 114,
     "metadata": {},
     "output_type": "execute_result"
    }
   ],
   "source": [
    "sp_y_tr"
   ]
  },
  {
   "cell_type": "markdown",
   "id": "9558dad7",
   "metadata": {},
   "source": [
    "Kernels"
   ]
  },
  {
   "cell_type": "code",
   "execution_count": 64,
   "id": "df4cc679",
   "metadata": {},
   "outputs": [],
   "source": [
    "def linear_kernel(x1, x2):\n",
    "    return np.dot(x1, x2)\n",
    "\n",
    "def gaussian_kernel(x1, x2, gamma=1):\n",
    "    distance = np.linalg.norm(x1 - x2) ** 2\n",
    "    return np.exp(-gamma * distance)"
   ]
  },
  {
   "cell_type": "markdown",
   "id": "36e67e5f",
   "metadata": {},
   "source": [
    "Helper Functions"
   ]
  },
  {
   "cell_type": "code",
   "execution_count": 127,
   "id": "7760f53b",
   "metadata": {},
   "outputs": [],
   "source": [
    "def compare_results(pred_y, y, neg_label = -1):\n",
    "    df = pd.DataFrame({'preds': pred_y, 'labels': y})\n",
    "    tp = ((df['labels'] == 1) & (df['preds'] == 1)).sum()\n",
    "    tn = ((df['labels'] == neg_label) & (df['preds'] == neg_label)).sum()\n",
    "    fp = ((df['labels'] == neg_label) & (df['preds'] == 1)).sum()\n",
    "    fn = ((df['labels'] == 1) & (df['preds'] == neg_label)).sum()\n",
    "    print(f'Accuracy: {(tp + tn) / len(y)}, Error: {(fp + fn) / len(y)}')\n",
    "    print(f'TPR: {tp / (tp + fn)}, FPR: {fp / (fp + tn)}')\n",
    "    return"
   ]
  },
  {
   "cell_type": "markdown",
   "id": "e06ce5f5",
   "metadata": {},
   "source": [
    "### Problem 1"
   ]
  },
  {
   "cell_type": "code",
   "execution_count": 115,
   "id": "5f0a3ed7",
   "metadata": {},
   "outputs": [],
   "source": [
    "class KernelDensity:\n",
    "    def __init__(self, kernel):\n",
    "        self.kernel = kernel\n",
    "        return\n",
    "    \n",
    "    def train(self, X, y):\n",
    "        pos_ind = np.where(y == 1)\n",
    "        neg_ind = np.where(y == 0)\n",
    "        self.pos_X = X[pos_ind]\n",
    "        self.neg_X = X[neg_ind]\n",
    "        return\n",
    "    \n",
    "    def _kernel_matrix(self, X, Xi):\n",
    "        sim = np.zeros(X.shape[0])\n",
    "        for i in range(X.shape[0]):\n",
    "            sim[i] = self.kernel(X[i], Xi)\n",
    "        return sim\n",
    "    \n",
    "    def predict(self, X):\n",
    "        preds = np.zeros(X.shape[0])\n",
    "        for i in range(X.shape[0]):\n",
    "            pos = np.sum(self._kernel_matrix(self.pos_X, X[i])) / self.pos_X.shape[0]\n",
    "            neg = np.sum(self._kernel_matrix(self.neg_X, X[i])) / self.neg_X.shape[0]\n",
    "            preds[i] = 1 if pos > neg else 0\n",
    "        return preds\n",
    "        \n",
    "        "
   ]
  },
  {
   "cell_type": "code",
   "execution_count": 116,
   "id": "6167063b",
   "metadata": {},
   "outputs": [
    {
     "data": {
      "text/plain": [
       "array([1., 1., 0., 1.])"
      ]
     },
     "execution_count": 116,
     "metadata": {},
     "output_type": "execute_result"
    }
   ],
   "source": [
    "kd = KernelDensity(linear_kernel)\n",
    "kd_data = np.array([[3,3],[2,3],[2,2], [2,4],[-3,-3],[-2,-3],[-2,-2], [-2,-4]])\n",
    "kd_label = np.array([1,1,1,1,0,0,0,0])\n",
    "kd.train(kd_data, kd_label)\n",
    "preds = kd.predict(np.array([[2,2], [5, 5], [-3, -3], [-3, 3]]))\n",
    "preds"
   ]
  },
  {
   "cell_type": "code",
   "execution_count": 128,
   "id": "2b192161",
   "metadata": {},
   "outputs": [
    {
     "name": "stdout",
     "output_type": "stream",
     "text": [
      "Accuracy: 0.8785656071719642, Error: 0.12143439282803586\n",
      "TPR: 0.8390177353342428, FPR: 0.09525959367945824\n"
     ]
    }
   ],
   "source": [
    "kd_sp = KernelDensity(gaussian_kernel)\n",
    "kd_sp.train(sp_X_tr, sp_y_tr)\n",
    "kd_sp_preds = kd_sp.predict(sp_X_te)\n",
    "compare_results(kd_sp_preds, sp_y_te, 0)"
   ]
  },
  {
   "cell_type": "code",
   "execution_count": 118,
   "id": "6dd5be6d",
   "metadata": {},
   "outputs": [
    {
     "data": {
      "text/plain": [
       "array([0., 0., 1., ..., 1., 0., 0.])"
      ]
     },
     "execution_count": 118,
     "metadata": {},
     "output_type": "execute_result"
    }
   ],
   "source": [
    "kd_sp_preds"
   ]
  },
  {
   "cell_type": "markdown",
   "id": "51803147",
   "metadata": {},
   "source": [
    "### Problem 2"
   ]
  },
  {
   "cell_type": "code",
   "execution_count": 97,
   "id": "46835a01",
   "metadata": {},
   "outputs": [],
   "source": [
    "class KernelPerceptron:\n",
    "    def __init__(self, kernel, max_iter=200):\n",
    "        self.kernel = kernel\n",
    "        self.max_iter = max_iter\n",
    "        return\n",
    "    \n",
    "    def train(self, X, y):\n",
    "        self.X = X\n",
    "        self.y = y\n",
    "        self.alphas = np.zeros(X.shape[0])\n",
    "        for iter_i in range(self.max_iter):\n",
    "            round_mistakes = 0\n",
    "            for i in range(X.shape[0]):\n",
    "                pred = np.sign(np.sum(self.alphas * y * self._kernel_matrix(X[i])))\n",
    "                if pred != y[i]:\n",
    "                    round_mistakes += 1\n",
    "                    self.alphas[i] += 1\n",
    "            print(f'Iteration: {iter_i}, Mistakes: {round_mistakes}')\n",
    "            if round_mistakes == 0:\n",
    "                return\n",
    "        return\n",
    "    \n",
    "    def _kernel_matrix(self, Xi):\n",
    "        sim = np.zeros(self.X.shape[0])\n",
    "        for i in range(self.X.shape[0]):\n",
    "            sim[i] = self.kernel(self.X[i], Xi)\n",
    "        return sim\n",
    "                    \n",
    "    def predict(self, X):\n",
    "        preds = np.zeros(X.shape[0])\n",
    "        for i in range(X.shape[0]):\n",
    "            preds[i] = np.sign(np.sum(self.alphas * self.y * self._kernel_matrix(X[i])))\n",
    "        return preds"
   ]
  },
  {
   "cell_type": "code",
   "execution_count": 98,
   "id": "e640e9ac",
   "metadata": {},
   "outputs": [
    {
     "name": "stdout",
     "output_type": "stream",
     "text": [
      "Iteration: 0, Mistakes: 75\n",
      "Iteration: 1, Mistakes: 29\n",
      "Iteration: 2, Mistakes: 9\n",
      "Iteration: 3, Mistakes: 12\n",
      "Iteration: 4, Mistakes: 15\n",
      "Iteration: 5, Mistakes: 4\n",
      "Iteration: 6, Mistakes: 0\n",
      "Accuracy: 0.995, Error: 0.005\n",
      "TPR: 1.0, FPR: 0.008928571428571428\n"
     ]
    }
   ],
   "source": [
    "test = KernelPerceptron(gaussian_kernel)\n",
    "test.train(perc_X_train.to_numpy(), perc_y_train.to_numpy())\n",
    "preds = test.predict(perc_X_test.to_numpy())\n",
    "compare_results(preds, perc_y_test.to_numpy())"
   ]
  },
  {
   "cell_type": "code",
   "execution_count": 91,
   "id": "0f9be8ac",
   "metadata": {},
   "outputs": [
    {
     "name": "stdout",
     "output_type": "stream",
     "text": [
      "Iteration: 0, Mistakes: 37\n",
      "Iteration: 1, Mistakes: 0\n",
      "Accuracy: 0.99, Error: 0.01\n",
      "TPR: 1.0, FPR: 0.020202020202020204\n"
     ]
    }
   ],
   "source": [
    "test2 = KernelPerceptron(gaussian_kernel)\n",
    "test2.train(spir_X_train.to_numpy(), spir_y_train.to_numpy())\n",
    "preds2 = test2.predict(spir_X_test.to_numpy())\n",
    "compare_results(preds2, spir_y_test.to_numpy())"
   ]
  },
  {
   "cell_type": "code",
   "execution_count": null,
   "id": "a11a0585",
   "metadata": {},
   "outputs": [],
   "source": []
  }
 ],
 "metadata": {
  "kernelspec": {
   "display_name": "Python 3 (ipykernel)",
   "language": "python",
   "name": "python3"
  },
  "language_info": {
   "codemirror_mode": {
    "name": "ipython",
    "version": 3
   },
   "file_extension": ".py",
   "mimetype": "text/x-python",
   "name": "python",
   "nbconvert_exporter": "python",
   "pygments_lexer": "ipython3",
   "version": "3.9.13"
  }
 },
 "nbformat": 4,
 "nbformat_minor": 5
}
